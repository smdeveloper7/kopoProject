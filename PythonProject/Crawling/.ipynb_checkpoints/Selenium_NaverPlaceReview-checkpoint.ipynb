{
 "cells": [
  {
   "cell_type": "markdown",
   "id": "9666d3fa-d3d1-4dd6-b2ba-a288f6520c54",
   "metadata": {},
   "source": [
    "## 라이브러리 import\n"
   ]
  },
  {
   "cell_type": "code",
   "execution_count": 148,
   "id": "d6b6e9c3-b3cb-4e50-a796-f206b1c37045",
   "metadata": {},
   "outputs": [],
   "source": [
    "\n",
    "# Selenium과 webdriver-manager를 사용한 Chrome 브라우저 실행 코드\n",
    "from selenium import webdriver\n",
    "from selenium.webdriver.chrome.service import Service\n",
    "from webdriver_manager.chrome import ChromeDriverManager\n",
    "from selenium.webdriver.common.by import By\n",
    "from selenium.webdriver.common.keys import Keys\n",
    "import bs4\n",
    "\n",
    "# WebDriver 설치 및 브라우저 실행 설정\n",
    "options = webdriver.ChromeOptions()\n",
    "## 리눅스에서는 필수임!! CLI환경에선 그래픽을 지원하지않으므로\n",
    "options.add_argument(\"--headless\")  # 헤드리스 모드로 실행 (브라우저 창을 표시하지 않음)\n",
    "options.add_argument(\"window-size=1920x1080\") # 헤드리스 모드로 실행 (명시적으로 표기)\n",
    "# options.add_argument(\"window-size=700x1100\")\n",
    "options.add_argument(\"--no-sandbox\")  # 샌드박스 모드 비활성화 (가상 환경에서 안정적인 실행을 위해)\n",
    "options.add_argument(\"--disable-dev-shm-usage\")  # /dev/shm 사용 비활성화 (메모리 부족 방지)\n",
    "options.add_argument(\"--disable-gpu\")  # GPU 가속 비활성화 (필요시 사용)\n",
    "options.add_argument(\"start-maximized\")  # 브라우저 창 최대화, 반응형웹 같은경우 특정 버튼이 비활성활 될수도 있음, 헤드리스에서는 안먹힌다.\n",
    "options.add_argument(\"disable-infobars\")  # 정보 표시줄 비활성화\n",
    "options.add_argument(\"--disable-extensions\")  # 브라우저 확장 프로그램 비활성화\n",
    "# user-agent 값 설정\n",
    "user_agent = \"Mozilla/5.0 (Windows NT 10.0; Win64; x64) AppleWebKit/537.36 (KHTML, like Gecko) Chrome/114.0.0.0 Safari/537.36\" #일반 사용자인 척 한다.\n",
    "options.add_argument(f\"user-agent={user_agent}\")\n",
    "\n",
    "# WebDriver로 Chrome 브라우저 실행\n",
    "# driver = webdriver.Chrome(service=Service(ChromeDriverManager().install()), options=options)\n",
    "# 웹페이지 파싱 될때까지 최대 3초 기다림\n",
    "# driver.implicitly_wait(3)"
   ]
  },
  {
   "cell_type": "code",
   "execution_count": 70,
   "id": "fd37e115-21c3-46ce-be05-1c4548f579a4",
   "metadata": {},
   "outputs": [],
   "source": [
    "from selenium.webdriver.common.by import By\n",
    "from selenium.webdriver.support.ui import WebDriverWait\n",
    "from selenium.webdriver.support import expected_conditions as EC\n",
    "from selenium.webdriver.support.ui import WebDriverWait\n",
    "import time\n",
    "import os\n",
    "import pandas as pd"
   ]
  },
  {
   "cell_type": "markdown",
   "id": "73fb224f-3a96-4f1b-b817-fd318e5623bb",
   "metadata": {},
   "source": [
    "## selenium으로 데이터 수집"
   ]
  },
  {
   "cell_type": "markdown",
   "id": "1f3ed60c-63ac-40e1-9600-c5756eac7145",
   "metadata": {},
   "source": [
    "## 키워드로 검색\n",
    ": 키워드를 통해 네이버 플레이스 id 및 가맹점 이름 받아오기"
   ]
  },
  {
   "cell_type": "code",
   "execution_count": 95,
   "id": "099fc441-1d53-45df-9786-fd6e42c3c6fb",
   "metadata": {},
   "outputs": [],
   "source": [
    "import requests,bs4\n",
    "import pandas as pd"
   ]
  },
  {
   "cell_type": "code",
   "execution_count": 94,
   "id": "4d34cfaa-6969-4a64-8466-d3cedf6a5c08",
   "metadata": {},
   "outputs": [
    {
     "data": {
      "text/plain": [
       "'https://m.map.naver.com//search2/search.naver?query=화곡역 맛집&siteSort=0'"
      ]
     },
     "execution_count": 94,
     "metadata": {},
     "output_type": "execute_result"
    }
   ],
   "source": [
    "keyword = \"화곡역 맛집\"\n",
    "sort = {\"relative\":0,\"distance\":1} #0:관련도순 , 1:거리순\n",
    "\n",
    "keywordUrl = \"https://m.map.naver.com//search2/search.naver?query={keyword}&siteSort={sort}\"\\\n",
    "                .format(keyword=keyword, sort=sort['relative'])\n",
    "\n"
   ]
  },
  {
   "cell_type": "code",
   "execution_count": 102,
   "id": "f832ef74-18e8-4f46-966f-2580ba760b81",
   "metadata": {},
   "outputs": [
    {
     "name": "stdout",
     "output_type": "stream",
     "text": [
      "<ul class=\"search_list _items\">\n",
      "<!-- 업체 출력 List (search.tpl.xml[js]로 이동)-->\n",
      "</ul>\n"
     ]
    }
   ],
   "source": [
    "## 페이지가 동적으로 생성되어 단순 request로는 불가능\n",
    "html = requests.get(keywordUrl)\n",
    "html.encoding = 'utf-8'\n",
    "html = html.text\n",
    "bsObj = bs4.BeautifulSoup(markup=html, features = 'html.parser')\n",
    "print(bsObj.find(name=\"ul\",attrs={\"class\":\"search_list _items\"}))"
   ]
  },
  {
   "cell_type": "code",
   "execution_count": 144,
   "id": "7f066eee-6d94-4d49-8420-7b8ec492cea0",
   "metadata": {},
   "outputs": [],
   "source": [
    "## selenium으로 수집\n",
    "driver = webdriver.Chrome(service=Service(ChromeDriverManager().install()), options=options)\n",
    "driver.get(keywordUrl)\n",
    "# 페이지 로딩 될때 까지 10초 대기 (로딩이 완료되면 즉시 다음 코드 실행)\n",
    "driver.implicitly_wait(10)\n",
    "# 리스트 코드가 동적으로 생성되어서 임의적으로 3초 기다림\n",
    "time.sleep(3)\n",
    "driver.find_element(By.TAG_NAME, 'body').send_keys(Keys.END)\n",
    "\n",
    "html = driver.page_source\n",
    "bsObj = bs4.BeautifulSoup(markup=html, features = 'html.parser')\n",
    "storeListTags = bsObj.find_all(name=\"li\",attrs={\"class\":\"_item _lazyImgContainer\"})\n",
    "storeList = []"
   ]
  },
  {
   "cell_type": "code",
   "execution_count": 152,
   "id": "e80872be-d3ae-41b6-9770-8eac2e90b681",
   "metadata": {
    "scrolled": true
   },
   "outputs": [],
   "source": [
    "#상점정보 저장\n",
    "storeList = []\n",
    "for i in range(0,len(storeListTags)):\n",
    "    placeId = storeListTags[i].get(\"data-id\") if storeListTags[i].get(\"data-sid\") is None else storeListTags[i].get(\"data-sid\")\n",
    "    storeName = storeListTags[i].get(\"data-title\")\n",
    "    storeTel = storeListTags[i].get(\"data-tel\")\n",
    "    storeLat = storeListTags[i].get(\"data-tel\")#위도\n",
    "    storeLon = storeListTags[i].get(\"data-longitude\")#경도\n",
    "    storeInfo = {\n",
    "        \"name\": storeName,\n",
    "        \"placeId\":placeId,\n",
    "        \"tel\": storeTel,\n",
    "        \"latitude\": storeLat,\n",
    "        \"longitude\": storeLon\n",
    "    }\n",
    "    storeList.append(storeInfo)\n",
    "    \n"
   ]
  },
  {
   "cell_type": "code",
   "execution_count": 163,
   "id": "f5aec6cf-6d48-4951-8e3e-2f27c9b820d5",
   "metadata": {},
   "outputs": [
    {
     "ename": "AttributeError",
     "evalue": "'dict' object has no attribute 'placeId'",
     "output_type": "error",
     "traceback": [
      "\u001b[1;31m---------------------------------------------------------------------------\u001b[0m",
      "\u001b[1;31mAttributeError\u001b[0m                            Traceback (most recent call last)",
      "Cell \u001b[1;32mIn[163], line 1\u001b[0m\n\u001b[1;32m----> 1\u001b[0m \u001b[43mstoreList\u001b[49m\u001b[43m[\u001b[49m\u001b[38;5;241;43m0\u001b[39;49m\u001b[43m]\u001b[49m\u001b[38;5;241;43m.\u001b[39;49m\u001b[43mplaceId\u001b[49m\n",
      "\u001b[1;31mAttributeError\u001b[0m: 'dict' object has no attribute 'placeId'"
     ]
    }
   ],
   "source": [
    "storeList[0].placeId"
   ]
  },
  {
   "cell_type": "code",
   "execution_count": 121,
   "id": "4a031c94-712a-42f7-b722-2f9bb3a309c8",
   "metadata": {
    "scrolled": true
   },
   "outputs": [
    {
     "data": {
      "text/plain": [
       "75"
      ]
     },
     "execution_count": 121,
     "metadata": {},
     "output_type": "execute_result"
    }
   ],
   "source": [
    "len(storeList)"
   ]
  },
  {
   "cell_type": "code",
   "execution_count": 165,
   "id": "6ffd6d1d-9416-4d0e-a0b5-23d47471de9a",
   "metadata": {},
   "outputs": [
    {
     "name": "stdout",
     "output_type": "stream",
     "text": [
      "1775901989\n"
     ]
    }
   ],
   "source": [
    "for i in range(0,len(storeList)):\n",
    "    print(storeList[i][\"placeId\"])\n",
    "    break"
   ]
  },
  {
   "cell_type": "markdown",
   "id": "c0271a5e-9da1-473f-af88-84599970cabc",
   "metadata": {},
   "source": [
    "## 리뷰 수집"
   ]
  },
  {
   "cell_type": "code",
   "execution_count": null,
   "id": "0bc6b5c8-e986-45e1-8b16-b3dbf007729c",
   "metadata": {},
   "outputs": [],
   "source": [
    "# placeId = \"1194099490\"\n",
    "for i in range(0,len(storeList)):\n",
    "    placeId = storeList[i][\"placeId\"]\n",
    "    reviewUrl = \"https://pcmap.place.naver.com/restaurant/{}/review/visitor\".format(placeId)\n",
    "    directoryPath = \"./places\"\n",
    "    os.makedirs(directoryPath, exist_ok=True)\n",
    "    \n",
    "    #더보기 버튼\n",
    "    addBtnSelector = 'a.fvwqf'\n",
    "    driver = webdriver.Chrome(service=Service(ChromeDriverManager().install()), options=options)\n",
    "    \n",
    "    # URL 이동\n",
    "    driver.get(reviewUrl)\n",
    "    \n",
    "    # 웹페이지 파싱 될때까지 최대 3초 기다림\n",
    "    driver.implicitly_wait(3)\n",
    "    \n",
    "    #더보기 xpath\n",
    "    # xPath = '//*[@id=\"app-root\"]/div/div/div/div[6]/div[3]/div[3]/div[2]/div'\n",
    "    # name = WebDriverWait(driver, 10).until(\n",
    "    #                     EC.element_to_be_clickable(\n",
    "    #                         (By.CSS_SELECTOR, addBtnSelector)\n",
    "    #                     )\n",
    "    #                 )\n",
    "    # driver.execute_script(\"arguments[0].click();\", name)\n",
    "    # 첫 번째 버튼 찾기 및 클릭\n",
    "    wait = WebDriverWait(driver, 10)  # 10초 동안 대기\n",
    "    dfList = []\n",
    "    for i in range(0,50):\n",
    "        print(i,\"  : 회차\")\n",
    "        try:\n",
    "           #더보기 버튼\n",
    "           # driver.find_element(By.XPATH, xPath).click()\n",
    "           driver.find_element(By.TAG_NAME, 'body').send_keys(Keys.END)\n",
    "           # addBtn = wait.until(EC.element_to_be_clickable((By.CSS_SELECTOR,addBtnSelector)))\n",
    "           # addBtn.click()\n",
    "           name = WebDriverWait(driver, 10).until(\n",
    "                        EC.element_to_be_clickable(\n",
    "                            (By.CSS_SELECTOR, addBtnSelector)\n",
    "                        )\n",
    "                    )\n",
    "           driver.execute_script(\"arguments[0].click();\", name)\n",
    "           #디버그\n",
    "           # html = driver.page_source\n",
    "           # dfList.append(debug_bsHtml(html))\n",
    "        except Exception as e:\n",
    "            print(e)\n",
    "            print(\"없다\")\n",
    "            driver.find_element(By.TAG_NAME, 'body').send_keys(Keys.END)\n",
    "            #디버그\n",
    "            #html = driver.page_source\n",
    "            #dfList.append(debug_bsHtml(html))\n",
    "            break\n",
    "    \n",
    "    html = driver.page_source\n",
    "    bsHtml(html,directoryPath,placeId)\n",
    "\n",
    "# BeautifulSoup로 페이지 소스 파싱\n",
    "# bsObj = bs4.BeautifulSoup(html,\"html.parser\")\n",
    "\n",
    "# reviewListCls = \"pui__X35jYm EjjAW\" \n",
    "# reviewIdCls = \"pui__NMi-Dp\" #span\n",
    "# reviewContentCls = \"pui__vn15t2\" #div\n",
    "\n",
    "# reviewLists = bsObj.findAll(name=\"li\",\n",
    "#                               attrs={\"class\":reviewListCls})\n",
    "\n",
    "# columnList = [\"리뷰작성ID\",\"리뷰내용\"]\n",
    "# rowList = []\n",
    "# eachRowList = []\n",
    "# for i in range(len(reviewLists)):\n",
    "#     reviewId = reviewLists[i].find(name=\"span\",\n",
    "#                    attrs={\"class\":reviewIdCls}).text\n",
    "#     reviewContent = reviewLists[i].find(name=\"div\",\n",
    "#                        attrs={\"class\":reviewContentCls}).text\n",
    "#     eachRowList.append(reviewId)\n",
    "#     eachRowList.append(reviewContent)\n",
    "#     rowList.append(eachRowList)\n",
    "#     eachRowList = []\n",
    "\n",
    "# df = pd.DataFrame(rowList,columns=columnList)\n",
    "# #place별 저장\n",
    "# placePath = path.join(directoryPath,placeId)\n",
    "# os.makedirs(placePath, exist_ok=True)\n",
    "# df.to_csv(path.join(placePath,\"reviewData.csv\"))    \n",
    "\n",
    "\n"
   ]
  },
  {
   "cell_type": "code",
   "execution_count": 17,
   "id": "ec53f7f4-ff33-4cdb-98db-ba0dfadd994d",
   "metadata": {},
   "outputs": [],
   "source": [
    "placeId = \"1194099490\"\n",
    "reviewUrl = \"https://pcmap.place.naver.com/restaurant/{}/review/visitor\".format(placeId)\n",
    "directoryPath = \"./places\"\n",
    "os.makedirs(directoryPath, exist_ok=True)\n",
    "#더보기 버튼\n",
    "addBtnSelector = 'a.fvwqf'"
   ]
  },
  {
   "cell_type": "code",
   "execution_count": 73,
   "id": "bbf96b5c-75d4-4394-98eb-52deccdc901f",
   "metadata": {},
   "outputs": [
    {
     "name": "stdout",
     "output_type": "stream",
     "text": [
      "0   : 회차\n",
      "1   : 회차\n",
      "2   : 회차\n",
      "3   : 회차\n",
      "4   : 회차\n",
      "5   : 회차\n",
      "Message: \n",
      "Stacktrace:\n",
      "\tGetHandleVerifier [0x00F18283+26163]\n",
      "\t(No symbol) [0x00EA9D34]\n",
      "\t(No symbol) [0x00DA24C3]\n",
      "\t(No symbol) [0x00DE7453]\n",
      "\t(No symbol) [0x00DE762B]\n",
      "\t(No symbol) [0x00E26B62]\n",
      "\t(No symbol) [0x00E0AD04]\n",
      "\t(No symbol) [0x00E24661]\n",
      "\t(No symbol) [0x00E0AA56]\n",
      "\t(No symbol) [0x00DDBE89]\n",
      "\t(No symbol) [0x00DDC8CD]\n",
      "\tGetHandleVerifier [0x011ECF73+2994979]\n",
      "\tGetHandleVerifier [0x012417E9+3341209]\n",
      "\tGetHandleVerifier [0x00FA7B5F+614159]\n",
      "\tGetHandleVerifier [0x00FAF1EC+644508]\n",
      "\t(No symbol) [0x00EB286D]\n",
      "\t(No symbol) [0x00EAF768]\n",
      "\t(No symbol) [0x00EAF905]\n",
      "\t(No symbol) [0x00EA1C86]\n",
      "\tBaseThreadInitThunk [0x76ACFCC9+25]\n",
      "\tRtlGetAppContainerNamedObjectPath [0x776180CE+286]\n",
      "\tRtlGetAppContainerNamedObjectPath [0x7761809E+238]\n",
      "\n",
      "없다\n"
     ]
    },
    {
     "data": {
      "text/plain": [
       "'success'"
      ]
     },
     "execution_count": 73,
     "metadata": {},
     "output_type": "execute_result"
    }
   ],
   "source": [
    "placeId = \"1194099490\"\n",
    "reviewUrl = \"https://pcmap.place.naver.com/restaurant/{}/review/visitor\".format(placeId)\n",
    "directoryPath = \"./places\"\n",
    "os.makedirs(directoryPath, exist_ok=True)\n",
    "\n",
    "#더보기 버튼\n",
    "addBtnSelector = 'a.fvwqf'\n",
    "driver = webdriver.Chrome(service=Service(ChromeDriverManager().install()), options=options)\n",
    "\n",
    "# URL 이동\n",
    "driver.get(reviewUrl)\n",
    "\n",
    "# 웹페이지 파싱 될때까지 최대 3초 기다림\n",
    "driver.implicitly_wait(3)\n",
    "\n",
    "\n",
    "\n",
    "#더보기 xpath\n",
    "xPath = '//*[@id=\"app-root\"]/div/div/div/div[6]/div[3]/div[3]/div[2]/div'\n",
    "# name = WebDriverWait(driver, 10).until(\n",
    "#                     EC.element_to_be_clickable(\n",
    "#                         (By.CSS_SELECTOR, addBtnSelector)\n",
    "#                     )\n",
    "#                 )\n",
    "# driver.execute_script(\"arguments[0].click();\", name)\n",
    "# 첫 번째 버튼 찾기 및 클릭\n",
    "wait = WebDriverWait(driver, 10)  # 10초 동안 대기\n",
    "dfList = []\n",
    "for i in range(0,10):\n",
    "    print(i,\"  : 회차\")\n",
    "    try:\n",
    "       #더보기 버튼\n",
    "       # driver.find_element(By.XPATH, xPath).click()\n",
    "       driver.find_element(By.TAG_NAME, 'body').send_keys(Keys.END)\n",
    "       # addBtn = wait.until(EC.element_to_be_clickable((By.CSS_SELECTOR,addBtnSelector)))\n",
    "       # addBtn.click()\n",
    "       name = WebDriverWait(driver, 10).until(\n",
    "                    EC.element_to_be_clickable(\n",
    "                        (By.CSS_SELECTOR, addBtnSelector)\n",
    "                    )\n",
    "                )\n",
    "       driver.execute_script(\"arguments[0].click();\", name)\n",
    "       #디버그\n",
    "       # html = driver.page_source\n",
    "       # dfList.append(debug_bsHtml(html))\n",
    "    except Exception as e:\n",
    "        print(e)\n",
    "        print(\"없다\")\n",
    "        driver.find_element(By.TAG_NAME, 'body').send_keys(Keys.END)\n",
    "        #디버그\n",
    "        #html = driver.page_source\n",
    "        #dfList.append(debug_bsHtml(html))\n",
    "        break\n",
    "\n",
    "html = driver.page_source\n",
    "bsHtml(html,directoryPath,placeId)\n",
    "\n",
    "# BeautifulSoup로 페이지 소스 파싱\n",
    "# bsObj = bs4.BeautifulSoup(html,\"html.parser\")\n",
    "\n",
    "# reviewListCls = \"pui__X35jYm EjjAW\" \n",
    "# reviewIdCls = \"pui__NMi-Dp\" #span\n",
    "# reviewContentCls = \"pui__vn15t2\" #div\n",
    "\n",
    "# reviewLists = bsObj.findAll(name=\"li\",\n",
    "#                               attrs={\"class\":reviewListCls})\n",
    "\n",
    "# columnList = [\"리뷰작성ID\",\"리뷰내용\"]\n",
    "# rowList = []\n",
    "# eachRowList = []\n",
    "# for i in range(len(reviewLists)):\n",
    "#     reviewId = reviewLists[i].find(name=\"span\",\n",
    "#                    attrs={\"class\":reviewIdCls}).text\n",
    "#     reviewContent = reviewLists[i].find(name=\"div\",\n",
    "#                        attrs={\"class\":reviewContentCls}).text\n",
    "#     eachRowList.append(reviewId)\n",
    "#     eachRowList.append(reviewContent)\n",
    "#     rowList.append(eachRowList)\n",
    "#     eachRowList = []\n",
    "\n",
    "# df = pd.DataFrame(rowList,columns=columnList)\n",
    "# #place별 저장\n",
    "# placePath = path.join(directoryPath,placeId)\n",
    "# os.makedirs(placePath, exist_ok=True)\n",
    "# df.to_csv(path.join(placePath,\"reviewData.csv\"))    \n",
    "\n",
    "\n"
   ]
  },
  {
   "cell_type": "code",
   "execution_count": 63,
   "id": "db0e84de-976f-46d4-ba49-3ad548650f0a",
   "metadata": {},
   "outputs": [
    {
     "name": "stdout",
     "output_type": "stream",
     "text": [
      "(10, 2)\n",
      "(20, 2)\n",
      "(30, 2)\n",
      "(35, 2)\n"
     ]
    }
   ],
   "source": [
    "for df in dfList:\n",
    "    print(df.shape)"
   ]
  },
  {
   "cell_type": "code",
   "execution_count": 72,
   "id": "24c7f292-ffa1-4aec-aa50-ae299b0a9920",
   "metadata": {},
   "outputs": [],
   "source": [
    "# BeautifulSoup로 페이지 소스 파싱\n",
    "def bsHtml(html,directoryPath,placeId):\n",
    "    bsObj = bs4.BeautifulSoup(html,\"html.parser\")\n",
    "    \n",
    "    reviewListCls = \"pui__X35jYm EjjAW\" \n",
    "    reviewIdCls = \"pui__NMi-Dp\" #s|pan\n",
    "    reviewContentCls = \"pui__vn15t2\" #div\n",
    "    \n",
    "    reviewLists = bsObj.findAll(name=\"li\",\n",
    "                                  attrs={\"class\":reviewListCls})\n",
    "    \n",
    "    columnList = [\"리뷰작성ID\",\"리뷰내용\"]\n",
    "    rowList = []\n",
    "    eachRowList = []\n",
    "    for i in range(len(reviewLists)):\n",
    "        reviewId = reviewLists[i].find(name=\"span\",\n",
    "                       attrs={\"class\":reviewIdCls}).text\n",
    "        reviewContent = reviewLists[i].find(name=\"div\",\n",
    "                           attrs={\"class\":reviewContentCls}).text\n",
    "        eachRowList.append(reviewId)\n",
    "        eachRowList.append(reviewContent)\n",
    "        rowList.append(eachRowList)\n",
    "        eachRowList = []\n",
    "    \n",
    "    df = pd.DataFrame(rowList,columns=columnList)\n",
    "    \n",
    "    #place별 저장\n",
    "    placePath = os.path.join(directoryPath,placeId)\n",
    "    os.makedirs(placePath, exist_ok=True)\n",
    "    df.to_csv(os.path.join(placePath,\"reviewData.csv\"))    \n",
    "    return \"success\""
   ]
  },
  {
   "cell_type": "code",
   "execution_count": 64,
   "id": "aa6250bd-9e39-4564-b53f-8989ff13d9a1",
   "metadata": {},
   "outputs": [],
   "source": [
    "## debug용\n",
    "def debug_bsHtml(html):\n",
    "    bsObj = bs4.BeautifulSoup(html,\"html.parser\")\n",
    "    \n",
    "    reviewListCls = \"pui__X35jYm EjjAW\" \n",
    "    reviewIdCls = \"pui__NMi-Dp\" #span\n",
    "    reviewContentCls = \"pui__vn15t2\" #div\n",
    "    \n",
    "    reviewLists = bsObj.findAll(name=\"li\",\n",
    "                                  attrs={\"class\":reviewListCls})\n",
    "    \n",
    "    columnList = [\"리뷰작성ID\",\"리뷰내용\"]\n",
    "    rowList = []\n",
    "    eachRowList = []\n",
    "    for i in range(len(reviewLists)):\n",
    "        reviewId = reviewLists[i].find(name=\"span\",\n",
    "                       attrs={\"class\":reviewIdCls}).text\n",
    "        reviewContent = reviewLists[i].find(name=\"div\",\n",
    "                           attrs={\"class\":reviewContentCls}).text\n",
    "        eachRowList.append(reviewId)\n",
    "        eachRowList.append(reviewContent)\n",
    "        rowList.append(eachRowList)\n",
    "        eachRowList = []\n",
    "    \n",
    "    df = pd.DataFrame(rowList,columns=columnList)\n",
    "    #place별 저장\n",
    "    # placePath = path.join(directoryPath,placeId)\n",
    "    # os.makedirs(placePath, exist_ok=True)\n",
    "    # df.to_csv(path.join(placePath,\"reviewData.csv\"))    \n",
    "    return df\n"
   ]
  },
  {
   "cell_type": "markdown",
   "id": "79d972d5-0424-429a-8a08-7ad9f5774953",
   "metadata": {},
   "source": [
    "## beautifulSoup로 데이터 정제"
   ]
  },
  {
   "cell_type": "code",
   "execution_count": 23,
   "id": "03270434-523c-4698-a2a6-e0356cb93409",
   "metadata": {},
   "outputs": [],
   "source": [
    "# BeautifulSoup로 페이지 소스 파싱\n",
    "bsObj = bs4.BeautifulSoup(html,\"html.parser\")\n",
    "\n",
    "reviewListCls = \"pui__X35jYm EjjAW\" \n",
    "reviewIdCls = \"pui__NMi-Dp\" #span\n",
    "reviewContentCls = \"pui__vn15t2\" #div\n",
    "\n",
    "reviewLists = bsObj.findAll(name=\"li\",\n",
    "                              attrs={\"class\":reviewListCls})\n",
    "\n",
    "columnList = [\"리뷰작성ID\",\"리뷰내용\"]\n",
    "rowList = []\n",
    "eachRowList = []\n",
    "for i in range(len(reviewLists)):\n",
    "    reviewId = reviewLists[i].find(name=\"span\",\n",
    "                   attrs={\"class\":reviewIdCls}).text\n",
    "    reviewContent = reviewLists[i].find(name=\"div\",\n",
    "                       attrs={\"class\":reviewContentCls}).text\n",
    "    eachRowList.append(reviewId)\n",
    "    eachRowList.append(reviewContent)\n",
    "    rowList.append(eachRowList)\n",
    "    eachRowList = []\n",
    "\n",
    "df = pd.DataFrame(rowList,columns=columnList)\n",
    "df.to_csv(\"./reviewData.csv\")    "
   ]
  },
  {
   "cell_type": "code",
   "execution_count": 26,
   "id": "9069abd5-9ee8-491c-9a54-b40d6709b675",
   "metadata": {},
   "outputs": [
    {
     "name": "stdout",
     "output_type": "stream",
     "text": [
      "별리미97 화곡사는 친구가 정말 너무너무너무!!맛있다길래 족발이 맛있어봤자라고 생각하고 온건데,,ㄹㅇ쫀맛이에욬ㅋㅋㅋㅋㅋ 진짜 인생족발,, 껍데기도 살도 부드러운게 차원이 달라요ㅠㅠㅠ 날이 엄청 더웠는데 포장 웨이팅도 있었는데 ,, 다 이유가 있었어요 개맛도리 족발 벌써 또 먹구싶어용❤️❤️\n"
     ]
    }
   ],
   "source": [
    "reviewId = reviewLists[0].find(name=\"span\",\n",
    "                   attrs={\"class\":reviewIdCls}).text\n",
    "reviewContent = reviewLists[0].find(name=\"div\",\n",
    "                   attrs={\"class\":reviewContentCls}).text\n"
   ]
  },
  {
   "cell_type": "code",
   "execution_count": 29,
   "id": "bf2317ed-c503-48d7-8dc7-fb98115d3bd6",
   "metadata": {},
   "outputs": [],
   "source": [
    "import pandas as pd"
   ]
  },
  {
   "cell_type": "code",
   "execution_count": 34,
   "id": "88ce2da3-86f4-4821-8dcd-032c43789f81",
   "metadata": {},
   "outputs": [],
   "source": [
    "columnList = [\"리뷰작성ID\",\"리뷰내용\"]\n",
    "rowList = []\n",
    "eachRowList = []\n",
    "for i in range(len(reviewLists)):\n",
    "    reviewId = reviewLists[i].find(name=\"span\",\n",
    "                   attrs={\"class\":reviewIdCls}).text\n",
    "    reviewContent = reviewLists[i].find(name=\"div\",\n",
    "                       attrs={\"class\":reviewContentCls}).text\n",
    "    eachRowList.append(reviewId)\n",
    "    eachRowList.append(reviewContent)\n",
    "    rowList.append(eachRowList)\n",
    "    eachRowList = []\n",
    "\n",
    "df = pd.DataFrame(rowList,columns=columnList)\n",
    "df.to_csv(\"./reviewData.csv\")    \n",
    "\n",
    "\n",
    "\n"
   ]
  },
  {
   "cell_type": "code",
   "execution_count": 21,
   "id": "3a55d2f9-d502-472c-9672-424c3c9ab8b1",
   "metadata": {},
   "outputs": [
    {
     "data": {
      "text/plain": [
       "<div class=\"lazyload-wrapper\"><div class=\"lazyload-placeholder\"></div></div>"
      ]
     },
     "execution_count": 21,
     "metadata": {},
     "output_type": "execute_result"
    }
   ],
   "source": [
    "reviewImgTag[0]"
   ]
  },
  {
   "cell_type": "code",
   "execution_count": 80,
   "id": "e9650bcf-4d15-41d2-bcfe-595cb78cfde8",
   "metadata": {},
   "outputs": [],
   "source": [
    "df = pd.read_csv(\"./places/1194099490/reviewData.csv\")"
   ]
  },
  {
   "cell_type": "code",
   "execution_count": 88,
   "id": "75df013e-7511-49d0-a0a7-e1e4bc7b4800",
   "metadata": {},
   "outputs": [
    {
     "name": "stdout",
     "output_type": "stream",
     "text": [
      "   Unnamed: 0   리뷰작성ID                                               리뷰내용\n",
      "0           0  non****  최근에 새로 생겨서 한 번 와보고 싶었는데 음식도 맛있고 분위기도 좋고 사장님들도 ...\n",
      "1           1  12y****  찾아보고 왔는데 진짜 찐 나만 알고싶은,, 맛집이다유,,🥺💜 안주 다 맛있고 진짜 ...\n",
      "2           2  012****  분위기도 정말 좋고 음식이 너므너무너무너무 맛있어요ㅜㅜ 제가 사진은 못찍었는데 모츠...\n",
      "3           3    뚜뚜비75  진짜 너무너무 맛있어요 안주들이 다 특색있어요 다른 이자카야에서도 있는 메뉴들도 있...\n",
      "4           4     후민94        안주가 전부 맛있어요 육회가 정말 별미예요~! 파밥도 사이드인데 너무 맛있어요\n"
     ]
    }
   ],
   "source": [
    "print(df.head())"
   ]
  },
  {
   "cell_type": "code",
   "execution_count": null,
   "id": "840b6dab-6094-4960-9024-fc0aff42e9e3",
   "metadata": {},
   "outputs": [],
   "source": []
  }
 ],
 "metadata": {
  "kernelspec": {
   "display_name": "Python 3 (ipykernel)",
   "language": "python",
   "name": "python3"
  },
  "language_info": {
   "codemirror_mode": {
    "name": "ipython",
    "version": 3
   },
   "file_extension": ".py",
   "mimetype": "text/x-python",
   "name": "python",
   "nbconvert_exporter": "python",
   "pygments_lexer": "ipython3",
   "version": "3.10.11"
  }
 },
 "nbformat": 4,
 "nbformat_minor": 5
}
